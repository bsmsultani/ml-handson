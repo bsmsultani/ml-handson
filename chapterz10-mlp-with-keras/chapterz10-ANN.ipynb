{
 "cells": [
  {
   "cell_type": "markdown",
   "metadata": {},
   "source": [
    "# Building multi layered perceptron with Keras"
   ]
  },
  {
   "cell_type": "code",
   "execution_count": 3,
   "metadata": {},
   "outputs": [],
   "source": [
    "import tensorflow as tf\n",
    "import matplotlib.pyplot as plt\n",
    "import seaborn as sns\n",
    "sns.set()"
   ]
  },
  {
   "cell_type": "code",
   "execution_count": 4,
   "metadata": {},
   "outputs": [],
   "source": [
    "fashion_mnist = tf.keras.datasets.fashion_mnist.load_data()\n",
    "\n",
    "(X_train_full, y_train_full), (X_test, y_test) = fashion_mnist\n",
    "\n",
    "X_train, y_train = X_train_full[:-5000], y_train_full[:-5000]\n",
    "X_valid, y_valid = X_train_full[-5000:], y_train_full[-5000:]\n"
   ]
  },
  {
   "cell_type": "markdown",
   "metadata": {},
   "source": [
    "standardise the values"
   ]
  },
  {
   "cell_type": "code",
   "execution_count": 5,
   "metadata": {},
   "outputs": [],
   "source": [
    "X_train, X_valid, X_test = X_train / 255., X_valid / 255., X_test / 255."
   ]
  },
  {
   "cell_type": "code",
   "execution_count": 6,
   "metadata": {},
   "outputs": [],
   "source": [
    "class_names = [\"T-shirt/top\", \"Trouser\", \"Pullover\", \"Dress\", \"Coat\",\n",
    "               \"Sandal\", \"Shirt\", \"Sneaker\", \"Bag\", \"Ankle boot\"]\n"
   ]
  },
  {
   "cell_type": "code",
   "execution_count": 7,
   "metadata": {},
   "outputs": [
    {
     "data": {
      "text/plain": [
       "'Ankle boot'"
      ]
     },
     "execution_count": 7,
     "metadata": {},
     "output_type": "execute_result"
    }
   ],
   "source": [
    "class_names[y_train[0]]"
   ]
  },
  {
   "cell_type": "markdown",
   "metadata": {},
   "source": [
    "## creating the model"
   ]
  },
  {
   "cell_type": "markdown",
   "metadata": {},
   "source": [
    "the set helps to make reproducable weights and biases"
   ]
  },
  {
   "cell_type": "code",
   "execution_count": 8,
   "metadata": {},
   "outputs": [],
   "source": [
    "tf.random.set_seed(42)\n",
    "\n",
    "model = tf.keras.Sequential([\n",
    "    tf.keras.Input(shape=[28, 28]),\n",
    "    tf.keras.layers.Flatten(), # converts the multi dimentional array into a single dimentional array\n",
    "    tf.keras.layers.Dense(300, activation='relu'),\n",
    "    tf.keras.layers.Dense(100, activation='relu'),\n",
    "    tf.keras.layers.Dense(10, activation=tf.keras.activations.softmax)\n",
    "])"
   ]
  },
  {
   "cell_type": "markdown",
   "metadata": {},
   "source": [
    "displays information about the layer.\n",
    "\n",
    "**Param #** is the number of weights and biases. For example, the first hidden layer has 784 × 300 connection weights, plus 300 bias terms, which adds up to 235,500 parameters! "
   ]
  },
  {
   "cell_type": "code",
   "execution_count": 9,
   "metadata": {},
   "outputs": [
    {
     "name": "stdout",
     "output_type": "stream",
     "text": [
      "Model: \"sequential\"\n",
      "_________________________________________________________________\n",
      " Layer (type)                Output Shape              Param #   \n",
      "=================================================================\n",
      " flatten (Flatten)           (None, 784)               0         \n",
      "                                                                 \n",
      " dense (Dense)               (None, 300)               235500    \n",
      "                                                                 \n",
      " dense_1 (Dense)             (None, 100)               30100     \n",
      "                                                                 \n",
      " dense_2 (Dense)             (None, 10)                1010      \n",
      "                                                                 \n",
      "=================================================================\n",
      "Total params: 266610 (1.02 MB)\n",
      "Trainable params: 266610 (1.02 MB)\n",
      "Non-trainable params: 0 (0.00 Byte)\n",
      "_________________________________________________________________\n"
     ]
    }
   ],
   "source": [
    "model.summary()"
   ]
  },
  {
   "cell_type": "code",
   "execution_count": 10,
   "metadata": {},
   "outputs": [
    {
     "data": {
      "text/plain": [
       "[<keras.src.layers.reshaping.flatten.Flatten at 0xffff4be0ee90>,\n",
       " <keras.src.layers.core.dense.Dense at 0xffff4be0f280>,\n",
       " <keras.src.layers.core.dense.Dense at 0xffff4be0f670>,\n",
       " <keras.src.layers.core.dense.Dense at 0xffff4be0f910>]"
      ]
     },
     "execution_count": 10,
     "metadata": {},
     "output_type": "execute_result"
    }
   ],
   "source": [
    "model.layers"
   ]
  },
  {
   "cell_type": "code",
   "execution_count": 11,
   "metadata": {},
   "outputs": [],
   "source": [
    "hiden1 = model.layers[1]"
   ]
  },
  {
   "cell_type": "code",
   "execution_count": 12,
   "metadata": {},
   "outputs": [],
   "source": [
    "weights, biases = hiden1.get_weights()"
   ]
  },
  {
   "cell_type": "code",
   "execution_count": 13,
   "metadata": {},
   "outputs": [
    {
     "data": {
      "text/plain": [
       "(array([[-0.02498247, -0.00527346,  0.04466058, ..., -0.06628074,\n",
       "         -0.04671576,  0.01165063],\n",
       "        [ 0.01833005,  0.05570503, -0.03581541, ...,  0.03375147,\n",
       "         -0.06807618, -0.02775868],\n",
       "        [ 0.01966543,  0.02089911,  0.01403238, ...,  0.0457742 ,\n",
       "         -0.05325074,  0.04040796],\n",
       "        ...,\n",
       "        [-0.04217877, -0.06552181, -0.01368944, ..., -0.04389317,\n",
       "          0.02355561, -0.06410296],\n",
       "        [ 0.05628622,  0.01801503, -0.05232845, ...,  0.02609652,\n",
       "         -0.06006408, -0.01338488],\n",
       "        [ 0.02924156, -0.02736413, -0.05973652, ..., -0.07153597,\n",
       "         -0.02857549, -0.03586676]], dtype=float32),\n",
       " array([0., 0., 0., 0., 0., 0., 0., 0., 0., 0., 0., 0., 0., 0., 0., 0., 0.,\n",
       "        0., 0., 0., 0., 0., 0., 0., 0., 0., 0., 0., 0., 0., 0., 0., 0., 0.,\n",
       "        0., 0., 0., 0., 0., 0., 0., 0., 0., 0., 0., 0., 0., 0., 0., 0., 0.,\n",
       "        0., 0., 0., 0., 0., 0., 0., 0., 0., 0., 0., 0., 0., 0., 0., 0., 0.,\n",
       "        0., 0., 0., 0., 0., 0., 0., 0., 0., 0., 0., 0., 0., 0., 0., 0., 0.,\n",
       "        0., 0., 0., 0., 0., 0., 0., 0., 0., 0., 0., 0., 0., 0., 0., 0., 0.,\n",
       "        0., 0., 0., 0., 0., 0., 0., 0., 0., 0., 0., 0., 0., 0., 0., 0., 0.,\n",
       "        0., 0., 0., 0., 0., 0., 0., 0., 0., 0., 0., 0., 0., 0., 0., 0., 0.,\n",
       "        0., 0., 0., 0., 0., 0., 0., 0., 0., 0., 0., 0., 0., 0., 0., 0., 0.,\n",
       "        0., 0., 0., 0., 0., 0., 0., 0., 0., 0., 0., 0., 0., 0., 0., 0., 0.,\n",
       "        0., 0., 0., 0., 0., 0., 0., 0., 0., 0., 0., 0., 0., 0., 0., 0., 0.,\n",
       "        0., 0., 0., 0., 0., 0., 0., 0., 0., 0., 0., 0., 0., 0., 0., 0., 0.,\n",
       "        0., 0., 0., 0., 0., 0., 0., 0., 0., 0., 0., 0., 0., 0., 0., 0., 0.,\n",
       "        0., 0., 0., 0., 0., 0., 0., 0., 0., 0., 0., 0., 0., 0., 0., 0., 0.,\n",
       "        0., 0., 0., 0., 0., 0., 0., 0., 0., 0., 0., 0., 0., 0., 0., 0., 0.,\n",
       "        0., 0., 0., 0., 0., 0., 0., 0., 0., 0., 0., 0., 0., 0., 0., 0., 0.,\n",
       "        0., 0., 0., 0., 0., 0., 0., 0., 0., 0., 0., 0., 0., 0., 0., 0., 0.,\n",
       "        0., 0., 0., 0., 0., 0., 0., 0., 0., 0., 0.], dtype=float32))"
      ]
     },
     "execution_count": 13,
     "metadata": {},
     "output_type": "execute_result"
    }
   ],
   "source": [
    "weights, biases"
   ]
  },
  {
   "cell_type": "markdown",
   "metadata": {},
   "source": [
    "## Compiling the model"
   ]
  },
  {
   "cell_type": "markdown",
   "metadata": {},
   "source": [
    "This code uses the \"sparse_categorical_crossentropy\" loss because the labels are sparse and the classes are exclusive. If the labels were one-hot vectors, the \"categorical_crossentropy\" loss would be used instead. For binary classification or multilabel binary classification, the \"sigmoid\" activation function and \"binary_crossentropy\" loss would be used instead of \"softmax\"."
   ]
  },
  {
   "cell_type": "markdown",
   "metadata": {},
   "source": [
    "the default learning rate for the optimizer is 0.01"
   ]
  },
  {
   "cell_type": "code",
   "execution_count": 14,
   "metadata": {},
   "outputs": [],
   "source": [
    "model.compile(loss=tf.keras.losses.sparse_categorical_crossentropy, optimizer=tf.keras.optimizers.SGD(learning_rate=0.01), metrics=['accuracy'])"
   ]
  },
  {
   "cell_type": "markdown",
   "metadata": {},
   "source": [
    "## model training"
   ]
  },
  {
   "cell_type": "markdown",
   "metadata": {},
   "source": [
    "the default batch size is 32"
   ]
  },
  {
   "cell_type": "code",
   "execution_count": 15,
   "metadata": {},
   "outputs": [
    {
     "name": "stdout",
     "output_type": "stream",
     "text": [
      "Epoch 1/30\n",
      "550/550 [==============================] - 3s 4ms/step - loss: 0.9725 - accuracy: 0.7006 - val_loss: 0.6483 - val_accuracy: 0.7918\n",
      "Epoch 2/30\n",
      "550/550 [==============================] - 2s 4ms/step - loss: 0.5993 - accuracy: 0.8018 - val_loss: 0.5416 - val_accuracy: 0.8226\n",
      "Epoch 3/30\n",
      "550/550 [==============================] - 2s 4ms/step - loss: 0.5281 - accuracy: 0.8213 - val_loss: 0.4938 - val_accuracy: 0.8276\n",
      "Epoch 4/30\n",
      "550/550 [==============================] - 2s 4ms/step - loss: 0.4923 - accuracy: 0.8330 - val_loss: 0.4677 - val_accuracy: 0.8352\n",
      "Epoch 5/30\n",
      "550/550 [==============================] - 2s 4ms/step - loss: 0.4693 - accuracy: 0.8397 - val_loss: 0.4582 - val_accuracy: 0.8360\n",
      "Epoch 6/30\n",
      "550/550 [==============================] - 2s 4ms/step - loss: 0.4528 - accuracy: 0.8438 - val_loss: 0.4725 - val_accuracy: 0.8326\n",
      "Epoch 7/30\n",
      "550/550 [==============================] - 2s 4ms/step - loss: 0.4384 - accuracy: 0.8485 - val_loss: 0.4322 - val_accuracy: 0.8468\n",
      "Epoch 8/30\n",
      "550/550 [==============================] - 2s 4ms/step - loss: 0.4266 - accuracy: 0.8534 - val_loss: 0.4240 - val_accuracy: 0.8472\n",
      "Epoch 9/30\n",
      "550/550 [==============================] - 2s 4ms/step - loss: 0.4182 - accuracy: 0.8564 - val_loss: 0.4099 - val_accuracy: 0.8518\n",
      "Epoch 10/30\n",
      "550/550 [==============================] - 2s 4ms/step - loss: 0.4090 - accuracy: 0.8590 - val_loss: 0.4054 - val_accuracy: 0.8582\n",
      "Epoch 11/30\n",
      "550/550 [==============================] - 2s 4ms/step - loss: 0.4017 - accuracy: 0.8610 - val_loss: 0.4101 - val_accuracy: 0.8508\n",
      "Epoch 12/30\n",
      "550/550 [==============================] - 2s 4ms/step - loss: 0.3948 - accuracy: 0.8633 - val_loss: 0.4014 - val_accuracy: 0.8556\n",
      "Epoch 13/30\n",
      "550/550 [==============================] - 2s 4ms/step - loss: 0.3893 - accuracy: 0.8661 - val_loss: 0.3842 - val_accuracy: 0.8636\n",
      "Epoch 14/30\n",
      "550/550 [==============================] - 2s 4ms/step - loss: 0.3826 - accuracy: 0.8683 - val_loss: 0.3875 - val_accuracy: 0.8626\n",
      "Epoch 15/30\n",
      "550/550 [==============================] - 2s 4ms/step - loss: 0.3775 - accuracy: 0.8694 - val_loss: 0.3783 - val_accuracy: 0.8672\n",
      "Epoch 16/30\n",
      "550/550 [==============================] - 2s 4ms/step - loss: 0.3708 - accuracy: 0.8713 - val_loss: 0.3761 - val_accuracy: 0.8624\n",
      "Epoch 17/30\n",
      "550/550 [==============================] - 2s 4ms/step - loss: 0.3671 - accuracy: 0.8725 - val_loss: 0.3719 - val_accuracy: 0.8678\n",
      "Epoch 18/30\n",
      "550/550 [==============================] - 2s 4ms/step - loss: 0.3633 - accuracy: 0.8738 - val_loss: 0.3724 - val_accuracy: 0.8684\n",
      "Epoch 19/30\n",
      "550/550 [==============================] - 2s 4ms/step - loss: 0.3581 - accuracy: 0.8741 - val_loss: 0.3686 - val_accuracy: 0.8702\n",
      "Epoch 20/30\n",
      "550/550 [==============================] - 2s 4ms/step - loss: 0.3559 - accuracy: 0.8761 - val_loss: 0.3609 - val_accuracy: 0.8706\n",
      "Epoch 21/30\n",
      "550/550 [==============================] - 2s 4ms/step - loss: 0.3502 - accuracy: 0.8780 - val_loss: 0.3603 - val_accuracy: 0.8722\n",
      "Epoch 22/30\n",
      "550/550 [==============================] - 2s 4ms/step - loss: 0.3463 - accuracy: 0.8790 - val_loss: 0.3565 - val_accuracy: 0.8708\n",
      "Epoch 23/30\n",
      "550/550 [==============================] - 2s 4ms/step - loss: 0.3430 - accuracy: 0.8801 - val_loss: 0.3739 - val_accuracy: 0.8634\n",
      "Epoch 24/30\n",
      "550/550 [==============================] - 2s 4ms/step - loss: 0.3405 - accuracy: 0.8820 - val_loss: 0.3655 - val_accuracy: 0.8714\n",
      "Epoch 25/30\n",
      "550/550 [==============================] - 2s 4ms/step - loss: 0.3362 - accuracy: 0.8833 - val_loss: 0.3534 - val_accuracy: 0.8752\n",
      "Epoch 26/30\n",
      "550/550 [==============================] - 2s 4ms/step - loss: 0.3333 - accuracy: 0.8845 - val_loss: 0.3520 - val_accuracy: 0.8752\n",
      "Epoch 27/30\n",
      "550/550 [==============================] - 2s 4ms/step - loss: 0.3303 - accuracy: 0.8846 - val_loss: 0.3624 - val_accuracy: 0.8696\n",
      "Epoch 28/30\n",
      "550/550 [==============================] - 2s 4ms/step - loss: 0.3260 - accuracy: 0.8867 - val_loss: 0.3463 - val_accuracy: 0.8750\n",
      "Epoch 29/30\n",
      "550/550 [==============================] - 2s 4ms/step - loss: 0.3230 - accuracy: 0.8882 - val_loss: 0.3514 - val_accuracy: 0.8740\n",
      "Epoch 30/30\n",
      "550/550 [==============================] - 2s 4ms/step - loss: 0.3216 - accuracy: 0.8880 - val_loss: 0.3481 - val_accuracy: 0.8754\n"
     ]
    }
   ],
   "source": [
    "history = model.fit(X_train, y_train, validation_data=(X_valid, y_valid), epochs=30, batch_size=100)"
   ]
  },
  {
   "cell_type": "code",
   "execution_count": 16,
   "metadata": {},
   "outputs": [
    {
     "data": {
      "image/png": "[encoded data removed]",
      "text/plain": [
       "<Figure size 1500x900 with 1 Axes>"
      ]
     },
     "metadata": {},
     "output_type": "display_data"
    }
   ],
   "source": [
    "plt.figure(figsize=(15, 9))\n",
    "plt.plot(history.history['accuracy'], label='Training Accuracy')\n",
    "plt.plot(history.history['loss'], label='Training Loss')\n",
    "plt.plot(history.history['val_loss'], label='Validation Loss')\n",
    "plt.plot(history.history['val_accuracy'], label='Validation Accuracy')\n",
    "plt.title('Training and Validation Metrics')\n",
    "plt.xlabel('Epoch')\n",
    "plt.ylabel('Accuracy/Loss')\n",
    "plt.legend()\n",
    "plt.show()"
   ]
  },
  {
   "cell_type": "code",
   "execution_count": 17,
   "metadata": {},
   "outputs": [
    {
     "name": "stdout",
     "output_type": "stream",
     "text": [
      "313/313 [==============================] - 1s 2ms/step - loss: 0.3730 - accuracy: 0.8669\n"
     ]
    },
    {
     "data": {
      "text/plain": [
       "[0.3730427026748657, 0.8669000267982483]"
      ]
     },
     "execution_count": 17,
     "metadata": {},
     "output_type": "execute_result"
    }
   ],
   "source": [
    "model.evaluate(X_test, y_test)"
   ]
  },
  {
   "cell_type": "code",
   "execution_count": 18,
   "metadata": {},
   "outputs": [
    {
     "name": "stderr",
     "output_type": "stream",
     "text": [
      "/home/ubuntu/ml-handson/.venv/lib/python3.10/site-packages/keras/src/engine/training.py:3000: UserWarning: You are saving your model as an HDF5 file via `model.save()`. This file format is considered legacy. We recommend using instead the native Keras format, e.g. `model.save('my_model.keras')`.\n",
      "  saving_api.save_model(\n"
     ]
    }
   ],
   "source": [
    "model.save('fashion_mnist_model.h5')"
   ]
  },
  {
   "cell_type": "code",
   "execution_count": 23,
   "metadata": {},
   "outputs": [
    {
     "name": "stdout",
     "output_type": "stream",
     "text": [
      "313/313 [==============================] - 1s 2ms/step - loss: 0.3730 - accuracy: 0.8669\n"
     ]
    },
    {
     "data": {
      "text/plain": [
       "[0.3730427026748657, 0.8669000267982483]"
      ]
     },
     "execution_count": 23,
     "metadata": {},
     "output_type": "execute_result"
    }
   ],
   "source": [
    "# open the model\n",
    "\n",
    "model = tf.keras.models.load_model('fashion_mnist_model.h5')\n",
    "\n",
    "model.evaluate(X_test, y_test)"
   ]
  },
  {
   "cell_type": "markdown",
   "metadata": {},
   "source": [
    "## optimal hyperparameters"
   ]
  },
  {
   "cell_type": "code",
   "execution_count": 24,
   "metadata": {},
   "outputs": [
    {
     "name": "stdout",
     "output_type": "stream",
     "text": [
      "Using TensorFlow backend\n"
     ]
    }
   ],
   "source": [
    "import tensorflow as tf\n",
    "from tensorflow import keras\n",
    "import keras_tuner as kt"
   ]
  },
  {
   "cell_type": "code",
   "execution_count": 25,
   "metadata": {},
   "outputs": [],
   "source": [
    "(img_train, label_train), (img_test, label_test) = keras.datasets.fashion_mnist.load_data()"
   ]
  },
  {
   "cell_type": "code",
   "execution_count": 26,
   "metadata": {},
   "outputs": [],
   "source": [
    "# Normalize pixel values between 0 and 1\n",
    "img_train = img_train.astype('float32') / 255.0\n",
    "img_test = img_test.astype('float32') / 255.0"
   ]
  },
  {
   "cell_type": "code",
   "execution_count": 27,
   "metadata": {},
   "outputs": [],
   "source": [
    "def model_builder(hp):\n",
    "  model = keras.Sequential()\n",
    "  model.add(keras.layers.Flatten(input_shape=(28, 28)))\n",
    "\n",
    "  # Tune the number of units in the first Dense layer\n",
    "  # Choose an optimal value between 32-512\n",
    "  hp_units = hp.Int('units', min_value=32, max_value=512, step=32)\n",
    "  model.add(keras.layers.Dense(units=hp_units, activation='relu'))\n",
    "  model.add(keras.layers.Dense(10))\n",
    "\n",
    "  # Tune the learning rate for the optimizer\n",
    "  # Choose an optimal value from 0.01, 0.001, or 0.0001\n",
    "  hp_learning_rate = hp.Choice('learning_rate', values=[1e-2, 1e-3, 1e-4])\n",
    "\n",
    "  model.compile(optimizer=keras.optimizers.Adam(learning_rate=hp_learning_rate),\n",
    "                loss=keras.losses.SparseCategoricalCrossentropy(from_logits=True),\n",
    "                metrics=['accuracy'])\n",
    "\n",
    "  return model"
   ]
  },
  {
   "cell_type": "code",
   "execution_count": 28,
   "metadata": {},
   "outputs": [],
   "source": [
    "tuner = kt.Hyperband(model_builder,\n",
    "                     objective='val_accuracy',\n",
    "                     max_epochs=10,\n",
    "                     factor=3,\n",
    "                     directory='my_dir',\n",
    "                     project_name='intro_to_kt')"
   ]
  },
  {
   "cell_type": "code",
   "execution_count": 35,
   "metadata": {},
   "outputs": [
    {
     "data": {
      "text/plain": [
       "{'units': 352,\n",
       " 'learning_rate': 0.001,\n",
       " 'tuner/epochs': 10,\n",
       " 'tuner/initial_epoch': 4,\n",
       " 'tuner/bracket': 2,\n",
       " 'tuner/round': 2,\n",
       " 'tuner/trial_id': '0013'}"
      ]
     },
     "execution_count": 35,
     "metadata": {},
     "output_type": "execute_result"
    }
   ],
   "source": [
    "stop_early = tf.keras.callbacks.EarlyStopping(monitor='val_loss', patience=5)\n",
    "\n",
    "tuner.search(img_train, label_train, epochs=50, validation_split=0.2, callbacks=[stop_early])\n",
    "\n",
    "# Get the optimal hyperparameters\n",
    "\n",
    "tuner.get_best_hyperparameters(num_trials=1)[0].values"
   ]
  },
  {
   "cell_type": "code",
   "execution_count": 36,
   "metadata": {},
   "outputs": [],
   "source": [
    "best_hps=tuner.get_best_hyperparameters(num_trials=1)[0]\n",
    "\n"
   ]
  },
  {
   "cell_type": "code",
   "execution_count": 37,
   "metadata": {},
   "outputs": [
    {
     "name": "stdout",
     "output_type": "stream",
     "text": [
      "Epoch 1/50\n",
      "1500/1500 [==============================] - 6s 4ms/step - loss: 0.5002 - accuracy: 0.8216 - val_loss: 0.4163 - val_accuracy: 0.8497\n",
      "Epoch 2/50\n",
      "1500/1500 [==============================] - 6s 4ms/step - loss: 0.3712 - accuracy: 0.8646 - val_loss: 0.3753 - val_accuracy: 0.8629\n",
      "Epoch 3/50\n",
      "1500/1500 [==============================] - 6s 4ms/step - loss: 0.3339 - accuracy: 0.8755 - val_loss: 0.3333 - val_accuracy: 0.8784\n",
      "Epoch 4/50\n",
      "1500/1500 [==============================] - 6s 4ms/step - loss: 0.3062 - accuracy: 0.8867 - val_loss: 0.3323 - val_accuracy: 0.8811\n",
      "Epoch 5/50\n",
      "1500/1500 [==============================] - 6s 4ms/step - loss: 0.2923 - accuracy: 0.8916 - val_loss: 0.3333 - val_accuracy: 0.8824\n",
      "Epoch 6/50\n",
      "1500/1500 [==============================] - 6s 4ms/step - loss: 0.2724 - accuracy: 0.8984 - val_loss: 0.3372 - val_accuracy: 0.8775\n",
      "Epoch 7/50\n",
      "1500/1500 [==============================] - 6s 4ms/step - loss: 0.2589 - accuracy: 0.9030 - val_loss: 0.3133 - val_accuracy: 0.8879\n",
      "Epoch 8/50\n",
      "1500/1500 [==============================] - 6s 4ms/step - loss: 0.2476 - accuracy: 0.9076 - val_loss: 0.3156 - val_accuracy: 0.8887\n",
      "Epoch 9/50\n",
      "1500/1500 [==============================] - 6s 4ms/step - loss: 0.2376 - accuracy: 0.9106 - val_loss: 0.3114 - val_accuracy: 0.8913\n",
      "Epoch 10/50\n",
      "1500/1500 [==============================] - 6s 4ms/step - loss: 0.2280 - accuracy: 0.9139 - val_loss: 0.3163 - val_accuracy: 0.8912\n",
      "Epoch 11/50\n",
      "1500/1500 [==============================] - 6s 4ms/step - loss: 0.2188 - accuracy: 0.9182 - val_loss: 0.3211 - val_accuracy: 0.8898\n",
      "Epoch 12/50\n",
      "1500/1500 [==============================] - 6s 4ms/step - loss: 0.2078 - accuracy: 0.9215 - val_loss: 0.3073 - val_accuracy: 0.8923\n",
      "Epoch 13/50\n",
      "1500/1500 [==============================] - 6s 4ms/step - loss: 0.1995 - accuracy: 0.9257 - val_loss: 0.3390 - val_accuracy: 0.8892\n",
      "Epoch 14/50\n",
      "1500/1500 [==============================] - 6s 4ms/step - loss: 0.1961 - accuracy: 0.9268 - val_loss: 0.3360 - val_accuracy: 0.8937\n",
      "Epoch 15/50\n",
      "1500/1500 [==============================] - 6s 4ms/step - loss: 0.1866 - accuracy: 0.9297 - val_loss: 0.3256 - val_accuracy: 0.8895\n",
      "Epoch 16/50\n",
      "1500/1500 [==============================] - 6s 4ms/step - loss: 0.1819 - accuracy: 0.9311 - val_loss: 0.3275 - val_accuracy: 0.8907\n",
      "Epoch 17/50\n",
      "1500/1500 [==============================] - 6s 4ms/step - loss: 0.1755 - accuracy: 0.9331 - val_loss: 0.3576 - val_accuracy: 0.8857\n",
      "Epoch 18/50\n",
      "1500/1500 [==============================] - 6s 4ms/step - loss: 0.1690 - accuracy: 0.9361 - val_loss: 0.3235 - val_accuracy: 0.8949\n",
      "Epoch 19/50\n",
      "1500/1500 [==============================] - 6s 4ms/step - loss: 0.1659 - accuracy: 0.9367 - val_loss: 0.3316 - val_accuracy: 0.8980\n",
      "Epoch 20/50\n",
      "1500/1500 [==============================] - 6s 4ms/step - loss: 0.1581 - accuracy: 0.9398 - val_loss: 0.3449 - val_accuracy: 0.8907\n",
      "Epoch 21/50\n",
      "1500/1500 [==============================] - 6s 4ms/step - loss: 0.1538 - accuracy: 0.9415 - val_loss: 0.3577 - val_accuracy: 0.8905\n",
      "Epoch 22/50\n",
      "1500/1500 [==============================] - 6s 4ms/step - loss: 0.1503 - accuracy: 0.9431 - val_loss: 0.3621 - val_accuracy: 0.8922\n",
      "Epoch 23/50\n",
      "1500/1500 [==============================] - 6s 4ms/step - loss: 0.1465 - accuracy: 0.9452 - val_loss: 0.3629 - val_accuracy: 0.8935\n",
      "Epoch 24/50\n",
      "1500/1500 [==============================] - 6s 4ms/step - loss: 0.1410 - accuracy: 0.9467 - val_loss: 0.3601 - val_accuracy: 0.8928\n",
      "Epoch 25/50\n",
      "1500/1500 [==============================] - 6s 4ms/step - loss: 0.1337 - accuracy: 0.9497 - val_loss: 0.3665 - val_accuracy: 0.8940\n",
      "Epoch 26/50\n",
      "1500/1500 [==============================] - 6s 4ms/step - loss: 0.1315 - accuracy: 0.9498 - val_loss: 0.3935 - val_accuracy: 0.8917\n",
      "Epoch 27/50\n",
      "1500/1500 [==============================] - 6s 4ms/step - loss: 0.1279 - accuracy: 0.9520 - val_loss: 0.3839 - val_accuracy: 0.8990\n",
      "Epoch 28/50\n",
      "1500/1500 [==============================] - 6s 4ms/step - loss: 0.1239 - accuracy: 0.9534 - val_loss: 0.3792 - val_accuracy: 0.8969\n",
      "Epoch 29/50\n",
      "1500/1500 [==============================] - 6s 4ms/step - loss: 0.1202 - accuracy: 0.9542 - val_loss: 0.4103 - val_accuracy: 0.8887\n",
      "Epoch 30/50\n",
      "1500/1500 [==============================] - 6s 4ms/step - loss: 0.1186 - accuracy: 0.9550 - val_loss: 0.4075 - val_accuracy: 0.8940\n",
      "Epoch 31/50\n",
      "1500/1500 [==============================] - 6s 4ms/step - loss: 0.1137 - accuracy: 0.9562 - val_loss: 0.4251 - val_accuracy: 0.8920\n",
      "Epoch 32/50\n",
      "1500/1500 [==============================] - 6s 4ms/step - loss: 0.1104 - accuracy: 0.9582 - val_loss: 0.4621 - val_accuracy: 0.8809\n",
      "Epoch 33/50\n",
      "1500/1500 [==============================] - 6s 4ms/step - loss: 0.1081 - accuracy: 0.9586 - val_loss: 0.4261 - val_accuracy: 0.8929\n",
      "Epoch 34/50\n",
      "1500/1500 [==============================] - 6s 4ms/step - loss: 0.1072 - accuracy: 0.9602 - val_loss: 0.4279 - val_accuracy: 0.8917\n",
      "Epoch 35/50\n",
      "1500/1500 [==============================] - 6s 4ms/step - loss: 0.1017 - accuracy: 0.9617 - val_loss: 0.4320 - val_accuracy: 0.8930\n",
      "Epoch 36/50\n",
      "1500/1500 [==============================] - 6s 4ms/step - loss: 0.1021 - accuracy: 0.9605 - val_loss: 0.4199 - val_accuracy: 0.8984\n",
      "Epoch 37/50\n",
      "1500/1500 [==============================] - 6s 4ms/step - loss: 0.0973 - accuracy: 0.9621 - val_loss: 0.4788 - val_accuracy: 0.8913\n",
      "Epoch 38/50\n",
      "1500/1500 [==============================] - 6s 4ms/step - loss: 0.0911 - accuracy: 0.9660 - val_loss: 0.4405 - val_accuracy: 0.8950\n",
      "Epoch 39/50\n",
      "1500/1500 [==============================] - 6s 4ms/step - loss: 0.0939 - accuracy: 0.9655 - val_loss: 0.4420 - val_accuracy: 0.8997\n",
      "Epoch 40/50\n",
      "1500/1500 [==============================] - 6s 4ms/step - loss: 0.0935 - accuracy: 0.9655 - val_loss: 0.4658 - val_accuracy: 0.8928\n",
      "Epoch 41/50\n",
      "1500/1500 [==============================] - 6s 4ms/step - loss: 0.0914 - accuracy: 0.9661 - val_loss: 0.5127 - val_accuracy: 0.8896\n",
      "Epoch 42/50\n",
      "1500/1500 [==============================] - 6s 4ms/step - loss: 0.0884 - accuracy: 0.9673 - val_loss: 0.4627 - val_accuracy: 0.8957\n",
      "Epoch 43/50\n",
      "1500/1500 [==============================] - 6s 4ms/step - loss: 0.0859 - accuracy: 0.9685 - val_loss: 0.4793 - val_accuracy: 0.8927\n",
      "Epoch 44/50\n",
      "1500/1500 [==============================] - 6s 4ms/step - loss: 0.0839 - accuracy: 0.9682 - val_loss: 0.4999 - val_accuracy: 0.8895\n",
      "Epoch 45/50\n",
      "1500/1500 [==============================] - 6s 4ms/step - loss: 0.0853 - accuracy: 0.9678 - val_loss: 0.5114 - val_accuracy: 0.8903\n",
      "Epoch 46/50\n",
      "1500/1500 [==============================] - 6s 4ms/step - loss: 0.0793 - accuracy: 0.9697 - val_loss: 0.4935 - val_accuracy: 0.8992\n",
      "Epoch 47/50\n",
      "1500/1500 [==============================] - 6s 4ms/step - loss: 0.0776 - accuracy: 0.9709 - val_loss: 0.5132 - val_accuracy: 0.8946\n",
      "Epoch 48/50\n",
      "1500/1500 [==============================] - 6s 4ms/step - loss: 0.0789 - accuracy: 0.9710 - val_loss: 0.5153 - val_accuracy: 0.8942\n",
      "Epoch 49/50\n",
      "1500/1500 [==============================] - 6s 4ms/step - loss: 0.0758 - accuracy: 0.9714 - val_loss: 0.4908 - val_accuracy: 0.8923\n",
      "Epoch 50/50\n",
      "1500/1500 [==============================] - 6s 4ms/step - loss: 0.0755 - accuracy: 0.9711 - val_loss: 0.5378 - val_accuracy: 0.8933\n",
      "Best epoch: 39\n"
     ]
    }
   ],
   "source": [
    "# Build the model with the optimal hyperparameters and train it on the data for 50 epochs\n",
    "model = tuner.hypermodel.build(best_hps)\n",
    "history = model.fit(img_train, label_train, epochs=50, validation_split=0.2)\n",
    "\n",
    "val_acc_per_epoch = history.history['val_accuracy']\n",
    "best_epoch = val_acc_per_epoch.index(max(val_acc_per_epoch)) + 1\n",
    "print('Best epoch: %d' % (best_epoch,))\n"
   ]
  },
  {
   "cell_type": "markdown",
   "metadata": {},
   "source": [
    "get the best epoch"
   ]
  },
  {
   "cell_type": "code",
   "execution_count": 38,
   "metadata": {},
   "outputs": [
    {
     "name": "stdout",
     "output_type": "stream",
     "text": [
      "Epoch 1/39\n",
      "1500/1500 [==============================] - 6s 4ms/step - loss: 0.5011 - accuracy: 0.8214 - val_loss: 0.4098 - val_accuracy: 0.8524\n",
      "Epoch 2/39\n",
      "1500/1500 [==============================] - 6s 4ms/step - loss: 0.3722 - accuracy: 0.8659 - val_loss: 0.3813 - val_accuracy: 0.8608\n",
      "Epoch 3/39\n",
      "1500/1500 [==============================] - 6s 4ms/step - loss: 0.3322 - accuracy: 0.8769 - val_loss: 0.3472 - val_accuracy: 0.8768\n",
      "Epoch 4/39\n",
      "1500/1500 [==============================] - 6s 4ms/step - loss: 0.3057 - accuracy: 0.8873 - val_loss: 0.3253 - val_accuracy: 0.8808\n",
      "Epoch 5/39\n",
      "1500/1500 [==============================] - 6s 4ms/step - loss: 0.2913 - accuracy: 0.8926 - val_loss: 0.3234 - val_accuracy: 0.8856\n",
      "Epoch 6/39\n",
      "1500/1500 [==============================] - 6s 4ms/step - loss: 0.2728 - accuracy: 0.8982 - val_loss: 0.3337 - val_accuracy: 0.8796\n",
      "Epoch 7/39\n",
      "1500/1500 [==============================] - 6s 4ms/step - loss: 0.2579 - accuracy: 0.9043 - val_loss: 0.3269 - val_accuracy: 0.8843\n",
      "Epoch 8/39\n",
      "1500/1500 [==============================] - 6s 4ms/step - loss: 0.2455 - accuracy: 0.9091 - val_loss: 0.3210 - val_accuracy: 0.8881\n",
      "Epoch 9/39\n",
      "1500/1500 [==============================] - 6s 4ms/step - loss: 0.2369 - accuracy: 0.9122 - val_loss: 0.3104 - val_accuracy: 0.8882\n",
      "Epoch 10/39\n",
      "1500/1500 [==============================] - 6s 4ms/step - loss: 0.2264 - accuracy: 0.9149 - val_loss: 0.3104 - val_accuracy: 0.8917\n",
      "Epoch 11/39\n",
      "1500/1500 [==============================] - 6s 4ms/step - loss: 0.2197 - accuracy: 0.9169 - val_loss: 0.3141 - val_accuracy: 0.8929\n",
      "Epoch 12/39\n",
      "1500/1500 [==============================] - 6s 4ms/step - loss: 0.2078 - accuracy: 0.9227 - val_loss: 0.3101 - val_accuracy: 0.8908\n",
      "Epoch 13/39\n",
      "1500/1500 [==============================] - 6s 4ms/step - loss: 0.1999 - accuracy: 0.9256 - val_loss: 0.3375 - val_accuracy: 0.8872\n",
      "Epoch 14/39\n",
      "1500/1500 [==============================] - 6s 4ms/step - loss: 0.1945 - accuracy: 0.9268 - val_loss: 0.3448 - val_accuracy: 0.8857\n",
      "Epoch 15/39\n",
      "1500/1500 [==============================] - 6s 4ms/step - loss: 0.1866 - accuracy: 0.9294 - val_loss: 0.3320 - val_accuracy: 0.8890\n",
      "Epoch 16/39\n",
      "1500/1500 [==============================] - 6s 4ms/step - loss: 0.1815 - accuracy: 0.9322 - val_loss: 0.3478 - val_accuracy: 0.8887\n",
      "Epoch 17/39\n",
      "1500/1500 [==============================] - 6s 4ms/step - loss: 0.1749 - accuracy: 0.9346 - val_loss: 0.3384 - val_accuracy: 0.8923\n",
      "Epoch 18/39\n",
      "1500/1500 [==============================] - 6s 4ms/step - loss: 0.1696 - accuracy: 0.9358 - val_loss: 0.3208 - val_accuracy: 0.8957\n",
      "Epoch 19/39\n",
      "1500/1500 [==============================] - 6s 4ms/step - loss: 0.1666 - accuracy: 0.9370 - val_loss: 0.3571 - val_accuracy: 0.8919\n",
      "Epoch 20/39\n",
      "1500/1500 [==============================] - 6s 4ms/step - loss: 0.1608 - accuracy: 0.9398 - val_loss: 0.3444 - val_accuracy: 0.8919\n",
      "Epoch 21/39\n",
      "1500/1500 [==============================] - 6s 4ms/step - loss: 0.1525 - accuracy: 0.9422 - val_loss: 0.3529 - val_accuracy: 0.8919\n",
      "Epoch 22/39\n",
      "1500/1500 [==============================] - 6s 4ms/step - loss: 0.1492 - accuracy: 0.9438 - val_loss: 0.3583 - val_accuracy: 0.8924\n",
      "Epoch 23/39\n",
      "1500/1500 [==============================] - 6s 4ms/step - loss: 0.1456 - accuracy: 0.9451 - val_loss: 0.4099 - val_accuracy: 0.8813\n",
      "Epoch 24/39\n",
      "1500/1500 [==============================] - 6s 4ms/step - loss: 0.1431 - accuracy: 0.9466 - val_loss: 0.3775 - val_accuracy: 0.8933\n",
      "Epoch 25/39\n",
      "1500/1500 [==============================] - 6s 4ms/step - loss: 0.1346 - accuracy: 0.9494 - val_loss: 0.3595 - val_accuracy: 0.8938\n",
      "Epoch 26/39\n",
      "1500/1500 [==============================] - 6s 4ms/step - loss: 0.1332 - accuracy: 0.9501 - val_loss: 0.4164 - val_accuracy: 0.8848\n",
      "Epoch 27/39\n",
      "1500/1500 [==============================] - 6s 4ms/step - loss: 0.1280 - accuracy: 0.9516 - val_loss: 0.4222 - val_accuracy: 0.8955\n",
      "Epoch 28/39\n",
      "1500/1500 [==============================] - 6s 4ms/step - loss: 0.1270 - accuracy: 0.9527 - val_loss: 0.3876 - val_accuracy: 0.8957\n",
      "Epoch 29/39\n",
      "1500/1500 [==============================] - 6s 4ms/step - loss: 0.1224 - accuracy: 0.9531 - val_loss: 0.3941 - val_accuracy: 0.8914\n",
      "Epoch 30/39\n",
      "1500/1500 [==============================] - 6s 4ms/step - loss: 0.1213 - accuracy: 0.9545 - val_loss: 0.3980 - val_accuracy: 0.8959\n",
      "Epoch 31/39\n",
      "1500/1500 [==============================] - 6s 4ms/step - loss: 0.1150 - accuracy: 0.9567 - val_loss: 0.4306 - val_accuracy: 0.8883\n",
      "Epoch 32/39\n",
      "1500/1500 [==============================] - 6s 4ms/step - loss: 0.1160 - accuracy: 0.9559 - val_loss: 0.4339 - val_accuracy: 0.8896\n",
      "Epoch 33/39\n",
      "1500/1500 [==============================] - 6s 4ms/step - loss: 0.1096 - accuracy: 0.9591 - val_loss: 0.4285 - val_accuracy: 0.8947\n",
      "Epoch 34/39\n",
      "1500/1500 [==============================] - 6s 4ms/step - loss: 0.1077 - accuracy: 0.9595 - val_loss: 0.4409 - val_accuracy: 0.8912\n",
      "Epoch 35/39\n",
      "1500/1500 [==============================] - 6s 4ms/step - loss: 0.1040 - accuracy: 0.9601 - val_loss: 0.4378 - val_accuracy: 0.8936\n",
      "Epoch 36/39\n",
      "1500/1500 [==============================] - 6s 4ms/step - loss: 0.1005 - accuracy: 0.9617 - val_loss: 0.4361 - val_accuracy: 0.8942\n",
      "Epoch 37/39\n",
      "1500/1500 [==============================] - 6s 4ms/step - loss: 0.0998 - accuracy: 0.9623 - val_loss: 0.4451 - val_accuracy: 0.8953\n",
      "Epoch 38/39\n",
      "1500/1500 [==============================] - 6s 4ms/step - loss: 0.0963 - accuracy: 0.9634 - val_loss: 0.4472 - val_accuracy: 0.8971\n",
      "Epoch 39/39\n",
      "1500/1500 [==============================] - 6s 4ms/step - loss: 0.0927 - accuracy: 0.9649 - val_loss: 0.4677 - val_accuracy: 0.8925\n"
     ]
    },
    {
     "data": {
      "text/plain": [
       "<keras.src.callbacks.History at 0xffff1d61f160>"
      ]
     },
     "execution_count": 38,
     "metadata": {},
     "output_type": "execute_result"
    }
   ],
   "source": [
    "hypermodel = tuner.hypermodel.build(best_hps)\n",
    "\n",
    "# Retrain the model\n",
    "hypermodel.fit(img_train, label_train, epochs=best_epoch, validation_split=0.2)"
   ]
  },
  {
   "cell_type": "code",
   "execution_count": 39,
   "metadata": {},
   "outputs": [
    {
     "name": "stdout",
     "output_type": "stream",
     "text": [
      "313/313 [==============================] - 1s 2ms/step - loss: 0.5169 - accuracy: 0.8887\n",
      "[test loss, test accuracy]: [0.5168952345848083, 0.888700008392334]\n"
     ]
    }
   ],
   "source": [
    "eval_result = hypermodel.evaluate(img_test, label_test)\n",
    "print(\"[test loss, test accuracy]:\", eval_result)"
   ]
  },
  {
   "cell_type": "markdown",
   "metadata": {},
   "source": [
    "save hypermodel"
   ]
  },
  {
   "cell_type": "code",
   "execution_count": 41,
   "metadata": {},
   "outputs": [],
   "source": [
    "hypermodel.save(\"fasion_mnist_best_model.keras\")"
   ]
  },
  {
   "cell_type": "code",
   "execution_count": null,
   "metadata": {},
   "outputs": [],
   "source": []
  }
 ],
 "metadata": {
  "kernelspec": {
   "display_name": "Python 3",
   "language": "python",
   "name": "python3"
  },
  "language_info": {
   "codemirror_mode": {
    "name": "ipython",
    "version": 3
   },
   "file_extension": ".py",
   "mimetype": "text/x-python",
   "name": "python",
   "nbconvert_exporter": "python",
   "pygments_lexer": "ipython3",
   "version": "3.10.12"
  },
  "orig_nbformat": 4
 },
 "nbformat": 4,
 "nbformat_minor": 2
}
